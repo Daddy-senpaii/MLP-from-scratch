{
  "nbformat": 4,
  "nbformat_minor": 0,
  "metadata": {
    "colab": {
      "provenance": [],
      "toc_visible": true,
      "authorship_tag": "ABX9TyNsEOf/CxXE3pVn8cwhCN4F",
      "include_colab_link": true
    },
    "kernelspec": {
      "name": "python3",
      "display_name": "Python 3"
    },
    "language_info": {
      "name": "python"
    }
  },
  "cells": [
    {
      "cell_type": "markdown",
      "metadata": {
        "id": "view-in-github",
        "colab_type": "text"
      },
      "source": [
        "<a href=\"https://colab.research.google.com/github/Daddy-senpaii/MLP-from-scratch/blob/main/Moon_Project.ipynb\" target=\"_parent\"><img src=\"https://colab.research.google.com/assets/colab-badge.svg\" alt=\"Open In Colab\"/></a>"
      ]
    },
    {
      "cell_type": "code",
      "source": [
        "!git clone https://github.com/Daddy-senpaii/MLP-from-scatch.git"
      ],
      "metadata": {
        "colab": {
          "base_uri": "https://localhost:8080/"
        },
        "id": "WiVeK3sKsZ-L",
        "outputId": "14b42910-641d-4185-d855-d72383163546"
      },
      "execution_count": 2,
      "outputs": [
        {
          "output_type": "stream",
          "name": "stdout",
          "text": [
            "Cloning into 'MLP-from-scatch'...\n",
            "fatal: could not read Username for 'https://github.com': No such device or address\n"
          ]
        }
      ]
    },
    {
      "cell_type": "markdown",
      "source": [
        "# **Objective:**\n",
        "- Build a Multi-Layer Perceptron (MLP) neural network from scratch to classify points from the make_moons dataset.\n",
        "- Later, implement the same network using TensorFlow with mini-batch training.\n",
        "\n",
        "# **1. Load the Dataset:**\n",
        "- Dataset: make_moons from sklearn.datasets\n",
        "- Each sample has 2 features and a binary label (0 or 1)\n",
        "- Preprocess:\n",
        "  - Transpose X to shape (n_features, n_samples)\n",
        "  - Reshape Y to (1, n_samples) to match output layer dimension"
      ],
      "metadata": {
        "id": "gFE17wln8LO1"
      }
    },
    {
      "cell_type": "code",
      "source": [
        "import numpy as np"
      ],
      "metadata": {
        "id": "qRx9LDO3YbTD"
      },
      "execution_count": null,
      "outputs": []
    },
    {
      "cell_type": "markdown",
      "source": [
        "# **3. Parameter Initialization:**\n",
        "- Weights W[l] initialized using **He initialization** for ReLU layers:\n",
        "  W[l] = np.random.randn(layers_dims[l], layers_dims[l-1]) * sqrt(2 / layers_dims[l-1])\n",
        "- Biases b[l] initialized as zeros: b[l] = zeros((layers_dims[l], 1))\n",
        "- Store parameters in a dictionary:\n",
        "  parameters = {\"W1\": ..., \"b1\": ..., \"W2\": ..., \"b2\": ..., ..., \"W10\": ..., \"b10\": ...}\n",
        "- Proper initialization prevents vanishing/exploding gradients and accelerates learning"
      ],
      "metadata": {
        "id": "diwJJo8_rNbx"
      }
    },
    {
      "cell_type": "code",
      "source": [
        "def initialize_parameters(dims, X): # total features\n",
        "  # initialize the paraameters // for now three will do fine\n",
        "  parameters = {}\n",
        "  L = len(dims)\n",
        "  W1 = np.random.randn(dims[0], X.shape[0])\n",
        "  b1 = np.random.randn(dims[0],1)\n",
        "  parameters[\"W1\"] = W1\n",
        "  parameters[\"b1\"] = b1\n",
        "  for i in range(1, L):\n",
        "    parameters[\"W\"+str(i+1)] = np.random.randn(dims[i], dims[i-1])*np.sqrt(2/layers_dims[i-1])\n",
        "    parameters[\"b\"+str(i+1)] = np.random.randn(dims[i],1)\n",
        "  return parameters\n",
        "\n"
      ],
      "metadata": {
        "id": "lszmGrQLJ6jY"
      },
      "execution_count": null,
      "outputs": []
    },
    {
      "cell_type": "code",
      "source": [
        "def relu(Z):\n",
        "  A = np.maximum(0, Z)\n",
        "  cache = Z\n",
        "  return A,cache"
      ],
      "metadata": {
        "id": "zetzQsDgf96p"
      },
      "execution_count": null,
      "outputs": []
    },
    {
      "cell_type": "code",
      "source": [
        "def sigmoid(Z):\n",
        "  A = 1/(1+np.exp(-Z))\n",
        "  cache = Z\n",
        "  return A, cache"
      ],
      "metadata": {
        "id": "9iwUl0vnhoIj"
      },
      "execution_count": null,
      "outputs": []
    },
    {
      "cell_type": "code",
      "source": [
        "\n",
        "def linear_activation_forward(A_prev , W, b , activations):\n",
        "  # print(A_prev.shape, W.shape, b.shape, activations)\n",
        "  if activations == \"relu\":\n",
        "    Z = np.dot(W, A_prev)+b\n",
        "    A, activation_cache = relu(Z)\n",
        "    cache = ((A_prev, W, b), activation_cache)\n",
        "\n",
        "  if activations == \"sigmoid\":\n",
        "    Z = np.dot(W, A_prev)+b\n",
        "    A,activation_cache = sigmoid(Z)\n",
        "    cache = ((A_prev, W, b), activation_cache)\n",
        "  return A, cache\n",
        "\n"
      ],
      "metadata": {
        "id": "1DJRUoSgfBUz"
      },
      "execution_count": null,
      "outputs": []
    },
    {
      "cell_type": "markdown",
      "source": [
        "# **. Forward Propagation:**\n",
        "- Linear + Activation step for each layer:\n",
        "  Z[l] = W[l] * A[l-1] + b[l]\n",
        "  A[l] = activation(Z[l])\n",
        "- Activations:\n",
        "  - Hidden layers: ReLU\n",
        "  - Output layer: Sigmoid\n",
        "- Caching for Backprop:\n",
        "  - Store at each layer: cache = ((A_prev, W, b), Z)\n",
        "  - A_prev = input to the layer\n",
        "  - W, b = parameters\n",
        "  - Z = linear combination before activation\n",
        "  - Store all caches in a list: caches = [cache1, cache2, ..., cacheL]\n",
        "- Purpose: During backprop, caches allow efficient gradient computation without recomputation\n"
      ],
      "metadata": {
        "id": "Epbf0DzMrcgK"
      }
    },
    {
      "cell_type": "code",
      "source": [
        "def L_model_forward(X, parameters):\n",
        "  caches = []\n",
        "  L = len(parameters) // 2\n",
        "  A = X\n",
        "  for i in range(1, L):\n",
        "    A_prev = A\n",
        "    A, cache = linear_activation_forward(A_prev, parameters[\"W\"+str(i)], parameters[\"b\"+str(i)],activations = \"relu\")\n",
        "    caches.append(cache)\n",
        "  AL, cache = linear_activation_forward(A, parameters[\"W\"+str(L)], parameters[\"b\"+str(L)], activations = \"sigmoid\")\n",
        "  caches.append(cache)\n",
        "  return AL, caches"
      ],
      "metadata": {
        "id": "bRWdfFGAeV3f"
      },
      "execution_count": null,
      "outputs": []
    },
    {
      "cell_type": "markdown",
      "source": [
        "# **5. Loss Function:**\n",
        "- Binary cross-entropy loss:\n",
        "  cost = -1/m * sum(Y * log(AL) + (1-Y) * log(1-AL))\n",
        "- Ensure AL and Y shapes match (1, m)\n",
        "- Clip AL to avoid log(0) issues\n",
        "- Cost is a scalar, useful for tracking convergence"
      ],
      "metadata": {
        "id": "nXLrTcVDrniU"
      }
    },
    {
      "cell_type": "code",
      "source": [
        "def calculate_cost(Y, AL):\n",
        "  Y = Y.reshape(1, Y.shape[0])\n",
        "  m = Y.shape[1]\n",
        "  cost =  (-1/m)*(np.dot(Y, np.log(AL).T) + np.dot((1-Y), np.log(1-AL).T))\n",
        "  cost = np.squeeze(cost)\n",
        "  return cost\n"
      ],
      "metadata": {
        "id": "iVZ2P5e2h3bS"
      },
      "execution_count": null,
      "outputs": []
    },
    {
      "cell_type": "code",
      "source": [
        "def relu_backward(dA, cache):\n",
        "  Z = cache\n",
        "  dZ = np.array(dA, copy = True)\n",
        "  dZ[Z<=0] = 0\n",
        "  return dZ"
      ],
      "metadata": {
        "id": "I1u1tczLY3zI"
      },
      "execution_count": null,
      "outputs": []
    },
    {
      "cell_type": "code",
      "source": [
        "def sigmoid_backward(dA, cache):\n",
        "  Z = cache\n",
        "  s = 1/(1+np.exp(-Z))\n",
        "  dZ = dA * s * (1-s)\n",
        "  return dZ"
      ],
      "metadata": {
        "id": "kU90FqijZHA0"
      },
      "execution_count": null,
      "outputs": []
    },
    {
      "cell_type": "code",
      "source": [
        "def linear_backward(dZ, cache):\n",
        "  A_prev, W, b = cache\n",
        "  m = A_prev.shape[1]\n",
        "  dW = (1/m) * np.dot(dZ, A_prev.T)\n",
        "  db = (1/m) * np.sum(dZ, axis = 1, keepdims = True)\n",
        "  dA_prev = np.dot(W.T, dZ)\n",
        "  return dA_prev, dW, db"
      ],
      "metadata": {
        "id": "B_GE4H_gaBCX"
      },
      "execution_count": null,
      "outputs": []
    },
    {
      "cell_type": "code",
      "source": [
        "def linear_activation_backward(dA, cache, activation):\n",
        "  linear_cache, activation_cache = cache\n",
        "  if activation == \"relu\":\n",
        "    dZ = relu_backward(dA, activation_cache)\n",
        "  elif activation == \"sigmoid\":\n",
        "    dZ = sigmoid_backward(dA, activation_cache)\n",
        "  dA_prev, dW, db = linear_backward(dZ, linear_cache)\n",
        "  return dA_prev, dW, db"
      ],
      "metadata": {
        "id": "DN3-LdyMYKIy"
      },
      "execution_count": null,
      "outputs": []
    },
    {
      "cell_type": "markdown",
      "source": [
        "# ** .Backpropagation:**\n",
        "- Goal: Compute gradients of cost w.r.t parameters dW, db\n",
        "- Output layer:\n",
        "  - Compute dAL = derivative of cost w.r.t AL\n",
        "  - Backprop through sigmoid to get dZ\n",
        "  - Compute dW, db, dA_prev using cached A_prev, W, b\n",
        "- Hidden layers:\n",
        "  - Backprop dA from next layer through ReLU\n",
        "  - Compute dZ, dW, db, dA_prev using caches\n",
        "- Store gradients in a dictionary:\n",
        "  grads = {\"dW1\": ..., \"db1\": ..., \"dW2\": ..., \"db2\": ..., ..., \"dW10\": ..., \"db10\": ...}"
      ],
      "metadata": {
        "id": "m_5uggjhrwmV"
      }
    },
    {
      "cell_type": "code",
      "source": [
        "def L_model_backward(AL, Y, caches):\n",
        "  grads = {}\n",
        "  L = len(caches)\n",
        "  m = AL.shape[1]\n",
        "  Y = Y.reshape(AL.shape)\n",
        "  dAL = -(np.divide(Y, AL) - np.divide(1-Y, 1-AL))\n",
        "  current_cache = caches[L-1]\n",
        "  grads[\"dA\"+str(L-1)], grads[\"dW\"+str(L)], grads[\"db\"+str(L)] = linear_activation_backward(dAL, current_cache, \"sigmoid\")\n",
        "  for l in reversed(range(L-1)):\n",
        "    current_cache = caches[l]\n",
        "    dA_prev_temp, dW_temp, db_temp = linear_activation_backward(grads[\"dA\"+str(l+1)], current_cache, \"relu\")\n",
        "    grads[\"dA\"+str(l)] = dA_prev_temp\n",
        "    grads[\"dW\"+str(l+1)] = dW_temp\n",
        "    grads[\"db\"+str(l+1)] = db_temp\n",
        "  return grads"
      ],
      "metadata": {
        "id": "AaePT33Bncff"
      },
      "execution_count": null,
      "outputs": []
    },
    {
      "cell_type": "markdown",
      "source": [
        "# **. Parameter Update:**\n",
        "- Update all parameters using gradient descent:\n",
        "  W[l] = W[l] - learning_rate * dW[l]\n",
        "  b[l] = b[l] - learning_rate * db[l]"
      ],
      "metadata": {
        "id": "Rwm-O23br72e"
      }
    },
    {
      "cell_type": "code",
      "source": [
        "def update_parameters(parameters, grads, learning_rate):\n",
        "   L = len(parameters) // 2\n",
        "   for l in range(L):\n",
        "    parameters[\"W\" + str(l+1)] = parameters[\"W\" + str(l+1)] - learning_rate * grads[\"dW\" + str(l+1)]\n",
        "    parameters[\"b\" + str(l+1)] = parameters[\"b\" + str(l+1)] - learning_rate * grads[\"db\" + str(l+1)]\n",
        "   return parameters\n"
      ],
      "metadata": {
        "id": "ReJ4FaLVcqPt"
      },
      "execution_count": null,
      "outputs": []
    },
    {
      "cell_type": "markdown",
      "source": [
        "# **. Training Loop:**\n",
        "- For each epoch:\n",
        "  1. Forward pass → compute AL and caches\n",
        "  2. Compute cost\n",
        "  3. Backprop → compute gradients using caches\n",
        "  4. Update parameters\n",
        "  5. Track cost over epochs for plotting and convergence"
      ],
      "metadata": {
        "id": "zyqYP2FysJsv"
      }
    },
    {
      "cell_type": "code",
      "source": [
        "def nn_model(X, y , parameters , num_iterations = 10000, learning_rate = 0.001, print_cost= True):\n",
        "  for i in range(0, num_iterations):\n",
        "    AL, caches = L_model_forward(X, parameters)\n",
        "    cost = calculate_cost(y, AL)\n",
        "    grads = L_model_backward(AL, y, caches)\n",
        "    parameters = update_parameters(parameters, grads, learning_rate)\n",
        "    if print_cost and i % 1000 == 0:\n",
        "      print(\"Cost after iteration %i: %f\" %(i, cost))\n",
        "  return parameters"
      ],
      "metadata": {
        "id": "p6WvaeptsGmw"
      },
      "execution_count": null,
      "outputs": []
    },
    {
      "cell_type": "markdown",
      "source": [
        "# ***Define Network Architecture:***\n",
        "- layers_dims defines the network dynamically:\n",
        "  Example: layers_dims = [2, 10, 10, 10, 10, 10, 10, 10, 10, 1]\n",
        "  - Input layer: 2 neurons\n",
        "  - Hidden layers: 10 neurons each (8 hidden layers total)\n",
        "  - Output layer: 1 neuron (Sigmoid)\n",
        "- This allows building a **deep network** with any number of layers by just changing layers_dims"
      ],
      "metadata": {
        "id": "0qx6TpgTsUvD"
      }
    },
    {
      "cell_type": "code",
      "execution_count": null,
      "metadata": {
        "colab": {
          "base_uri": "https://localhost:8080/"
        },
        "id": "ZmXoDqSF8G4Q",
        "outputId": "65c4ccb5-9111-404d-d593-dabd37d5a8d2",
        "collapsed": true
      },
      "outputs": [
        {
          "output_type": "stream",
          "name": "stdout",
          "text": [
            "[[ 0.16792167  0.41235714  0.48607938 ...  1.11629467  0.10118756\n",
            "   2.0014006 ]\n",
            " [ 0.92371313 -0.17840666 -0.1326211  ...  0.24992198  1.16326836\n",
            "  -0.01490159]]\n"
          ]
        }
      ],
      "source": [
        "from sklearn.datasets import make_moons\n",
        "X, y = make_moons(n_samples = 60000, noise = 0.2 , random_state = 42)\n",
        "X = X.T\n",
        "y = y.reshape(y.shape[0],1 )\n",
        "print(X[:10])\n",
        "\n",
        "layers_dims = [2, 10,10,10, 10, 10 ,10, 10, 10,1]\n",
        "parameters = initialize_parameters(layers_dims,X)\n",
        "# AL , caches = L_model_forward(X, parameters)\n",
        "\n"
      ]
    },
    {
      "cell_type": "code",
      "source": [
        "simple_gd_parameters = nn_model(X,y, parameters)\n",
        "print('updated_cost',simple_gd_parameters)"
      ],
      "metadata": {
        "colab": {
          "base_uri": "https://localhost:8080/"
        },
        "id": "JYokqGp9s9zn",
        "outputId": "8e301e44-18ad-4377-dbeb-8efcf7b75da9"
      },
      "execution_count": null,
      "outputs": [
        {
          "output_type": "stream",
          "name": "stdout",
          "text": [
            "Cost after iteration 0: 0.730999\n",
            "Cost after iteration 1000: 0.630428\n",
            "Cost after iteration 2000: 0.575786\n",
            "Cost after iteration 3000: 0.540739\n",
            "Cost after iteration 4000: 0.519240\n",
            "Cost after iteration 5000: 0.500552\n",
            "Cost after iteration 6000: 0.483797\n",
            "Cost after iteration 7000: 0.468850\n",
            "Cost after iteration 8000: 0.455482\n",
            "Cost after iteration 9000: 0.443378\n",
            "updated_cost {'W1': array([[ 0.14640252,  0.19784595],\n",
            "       [ 1.86896081, -0.31896918]]), 'b1': array([[-3.04382469],\n",
            "       [ 1.63138978]]), 'W2': array([[ 1.39924082, -0.11715749],\n",
            "       [-1.32255596, -1.65595481],\n",
            "       [ 1.12836543,  0.06593403],\n",
            "       [-0.33251112, -0.18852785],\n",
            "       [-0.02684548,  0.79598643],\n",
            "       [-1.30615884, -0.27663236],\n",
            "       [-1.31471307,  0.22962215],\n",
            "       [-0.96845126,  1.37894979],\n",
            "       [ 0.75287148,  0.07424349],\n",
            "       [-0.55792244, -1.67430971]]), 'b2': array([[ 0.51348878],\n",
            "       [ 2.5035568 ],\n",
            "       [ 1.156786  ],\n",
            "       [ 0.10651423],\n",
            "       [-0.65671659],\n",
            "       [-1.72210378],\n",
            "       [ 0.14452207],\n",
            "       [ 0.13157843],\n",
            "       [ 0.75818001],\n",
            "       [-1.72623762]]), 'W3': array([[-0.3485492 ,  0.22096202,  0.01970292,  0.21704717, -0.67808353,\n",
            "        -0.65599488, -0.47547546, -0.01369952, -0.37890275, -0.30438008],\n",
            "       [ 0.00331846,  0.03428977,  0.09678617, -0.54383698, -0.27026599,\n",
            "         0.28817366,  0.22975129, -0.31210917,  0.42330896, -0.02349926],\n",
            "       [ 0.16214723,  0.17594356, -0.12957843, -0.19913923, -0.846831  ,\n",
            "        -0.29586314,  0.25938976,  0.40813369, -0.66449988,  0.32297037],\n",
            "       [ 0.55793775,  1.1617655 ,  0.04132634, -0.24501688, -1.05054572,\n",
            "        -0.38939649,  0.5980919 , -0.36735438, -0.40717356, -0.49143057],\n",
            "       [ 1.05642323, -0.16980236,  0.31475902,  0.81321471,  0.12698249,\n",
            "        -1.07183184,  0.22121257,  0.13873891, -0.42317378, -0.51656515],\n",
            "       [-0.78200866,  0.45491859,  0.35276156, -0.03868918,  0.24364106,\n",
            "         0.53872597,  0.12557205,  0.68218711, -0.07205506,  0.9287778 ],\n",
            "       [-0.32221058,  0.38799548,  0.14187116, -0.05487264, -0.10949895,\n",
            "        -0.53642442,  0.07886196,  0.29371558, -0.22978517,  0.10127646],\n",
            "       [ 0.52520075,  0.25501751,  0.25863636, -0.44988851,  0.02989167,\n",
            "        -0.37006877,  0.5328098 , -0.2488327 ,  0.61404719,  0.21671775],\n",
            "       [ 0.02251517,  0.44395001,  0.11102566, -0.72716979,  0.38106336,\n",
            "        -0.01733246, -0.40952708, -0.09755105, -0.4944043 ,  0.00785966],\n",
            "       [-0.3030965 ,  0.08778268,  0.05915728, -0.35313623, -0.46173814,\n",
            "        -0.06139623,  0.07423871,  0.2305544 ,  0.65449177, -0.57908641]]), 'b3': array([[ 0.0468316 ],\n",
            "       [-0.52595029],\n",
            "       [-1.49544096],\n",
            "       [-0.71243876],\n",
            "       [ 0.8068304 ],\n",
            "       [ 0.7461753 ],\n",
            "       [ 1.42997623],\n",
            "       [-0.84409584],\n",
            "       [ 0.84104345],\n",
            "       [ 1.16400642]]), 'W4': array([[ 0.93091482,  0.01238256,  0.04499648,  0.01057625,  0.29170407,\n",
            "        -0.3164079 , -0.11096417,  0.89680668, -0.4373491 ,  0.03030081],\n",
            "       [ 1.10234882,  0.53228454, -0.30229974,  0.23113734,  0.47252141,\n",
            "        -0.44096922, -0.58385216,  0.74048055, -0.26482253, -0.24960551],\n",
            "       [ 0.21607127,  0.68445762, -0.47253853,  0.42725219, -0.38425213,\n",
            "         0.04191965, -0.20000801, -0.19336587,  0.33138098,  0.94500804],\n",
            "       [-0.04697836, -0.20172576, -0.04206984, -0.4271664 , -0.94477566,\n",
            "        -0.33496431, -0.34498545,  0.23120201,  0.67677077, -0.41898987],\n",
            "       [-0.42658129, -0.25455491, -0.33364353, -0.38612078,  0.08217934,\n",
            "         0.06240193, -0.0412666 ,  0.92930434, -0.84074814,  0.38598782],\n",
            "       [ 0.41980492,  0.47360969,  0.92357191,  0.09857517, -0.05711302,\n",
            "         0.38490985, -0.02719577,  0.45231974,  0.39135371, -0.02107627],\n",
            "       [-0.33598585, -1.13712298,  0.21379602, -0.5711425 , -0.00986978,\n",
            "         0.67505471,  0.54793851, -0.95189496, -0.24008637,  0.44592441],\n",
            "       [ 0.98184688, -0.10218675, -1.21306284,  0.00827603,  0.26417369,\n",
            "         0.13750423, -0.17486067,  0.53873282, -0.82411138, -0.1647168 ],\n",
            "       [ 0.01400745, -0.27915325, -0.59187176,  0.11491594, -0.24264656,\n",
            "         0.07880713,  0.00605034,  0.3221745 ,  0.01693701,  0.46293404],\n",
            "       [-0.2099497 ,  0.56740756, -0.26936699,  0.00694078,  0.00176533,\n",
            "         0.54506372,  0.04264143,  0.36046607,  0.67552426,  0.49965955]]), 'b4': array([[ 0.09265569],\n",
            "       [-0.52388885],\n",
            "       [-0.15030997],\n",
            "       [-0.86478413],\n",
            "       [ 0.16206641],\n",
            "       [ 1.70435609],\n",
            "       [ 0.23171021],\n",
            "       [-1.11263895],\n",
            "       [ 1.14388129],\n",
            "       [-0.47728714]]), 'W5': array([[ 0.36675049, -0.03806287, -0.00267128, -0.37907187,  0.38045955,\n",
            "         0.51487584, -0.19767283,  0.39747372,  0.790653  , -0.48655733],\n",
            "       [ 0.03787486, -0.01920989, -0.09915636, -0.17870753, -0.20235347,\n",
            "        -0.18620104, -0.49543494, -0.02992852,  0.31314965,  0.94876189],\n",
            "       [ 0.42020581, -0.56144462,  0.25095352, -0.10320443, -0.46413147,\n",
            "         0.67213086,  0.25240819,  0.22550317,  0.83619284, -0.08772879],\n",
            "       [ 0.14711523,  0.02837136,  0.18989753,  0.76403021, -0.03284887,\n",
            "         0.11821141,  0.25822129, -0.35912204, -0.42244532,  0.0816177 ],\n",
            "       [-0.24918201, -0.30215098, -0.29759819, -0.19936263, -0.0336268 ,\n",
            "         0.19481821,  0.74179867, -0.25988228, -0.32835357,  0.51299494],\n",
            "       [ 0.37620368,  0.05046757,  0.02764096, -1.03345554, -0.15394556,\n",
            "        -0.06579591, -0.80800734,  1.00940227,  0.3153839 ,  0.28388986],\n",
            "       [-0.14035813, -0.61939435,  0.60122661,  0.86382588, -0.15706794,\n",
            "        -0.01815527, -0.01917109,  0.14141484, -0.02658045, -0.16582561],\n",
            "       [-0.62993164, -0.10833291, -0.87077183,  0.48836374,  0.00800954,\n",
            "         0.18414047, -0.16595043, -0.27708181,  0.83021556,  0.2324259 ],\n",
            "       [-0.59826573,  0.01205093,  0.37654419,  0.19272598,  0.17619184,\n",
            "        -1.03948201,  0.50170235,  0.92255999, -0.5410019 , -0.90285675],\n",
            "       [ 0.00756355, -1.63425027, -0.10168447,  0.66190026, -0.66351488,\n",
            "         0.1860061 ,  0.07452347, -0.03282415, -0.01642593,  0.62616482]]), 'b5': array([[-2.58170757e-01],\n",
            "       [ 3.69084631e-01],\n",
            "       [ 8.31344084e-01],\n",
            "       [-1.42875948e+00],\n",
            "       [ 1.48193504e-01],\n",
            "       [-3.52687873e-01],\n",
            "       [ 1.01921569e+00],\n",
            "       [-2.28028636e+00],\n",
            "       [ 1.61273387e-01],\n",
            "       [ 8.18082848e-04]]), 'W6': array([[-0.2623884 ,  0.05140429, -0.39708351,  0.52226533,  0.42393572,\n",
            "         0.13307823,  0.02545244,  0.5575118 , -0.60097037, -0.43235833],\n",
            "       [ 0.5120719 ,  0.36987282, -0.31651166, -0.3350697 , -0.62741241,\n",
            "         0.45591148,  0.80326376, -0.0445549 , -0.06231181, -0.33685354],\n",
            "       [ 0.18636058, -0.16004388,  1.05156647,  0.7401423 ,  0.97793879,\n",
            "        -0.54629425, -0.38090676,  0.14643668, -0.63816728, -0.1939396 ],\n",
            "       [ 0.82341166,  0.02440122,  0.20406087,  0.34123457,  0.00365208,\n",
            "         0.31006473,  0.1577921 , -0.17746983, -0.09034022,  0.28313195],\n",
            "       [-0.3031358 ,  0.59858288, -0.25659677,  0.15770172, -0.50903673,\n",
            "         0.7118292 , -0.11296593,  0.01460897,  0.53938405, -0.35573641],\n",
            "       [-0.30283883, -0.05589777, -0.03452843, -0.76235059, -0.14987523,\n",
            "        -0.24765687, -0.07784054,  0.16260063, -0.29234803,  0.27698054],\n",
            "       [ 0.0067365 , -0.13520846, -0.02636576, -0.11348237, -0.25597749,\n",
            "        -0.31748687, -0.58144244,  0.15767867, -0.62001007, -0.42347532],\n",
            "       [-0.21741003,  0.42081068, -0.16536088, -0.57801014, -0.02809816,\n",
            "         0.58657823, -0.3097961 , -0.25735169, -0.13612614, -0.17196844],\n",
            "       [ 0.69248427,  0.170815  ,  0.94589233, -0.00566546, -0.14894463,\n",
            "         0.35090036, -0.23452282,  0.45154179,  0.2790248 ,  0.1082686 ],\n",
            "       [-0.42399628,  0.43569541,  0.53512441, -0.09057653,  0.5404607 ,\n",
            "        -0.04531568, -0.00963293, -0.3928231 , -0.05893311,  0.62635788]]), 'b6': array([[ 0.07332894],\n",
            "       [ 0.82395338],\n",
            "       [ 0.24543601],\n",
            "       [-0.70106791],\n",
            "       [-1.01867441],\n",
            "       [ 1.30897922],\n",
            "       [-1.57472427],\n",
            "       [ 1.12774483],\n",
            "       [-1.1528816 ],\n",
            "       [-0.84063523]]), 'W7': array([[-0.65507424,  0.0122718 , -0.3874851 ,  0.3107555 ,  0.15183297,\n",
            "         0.02746098, -0.35644581, -0.70154996, -0.80062066, -0.42172493],\n",
            "       [-0.08341315,  0.02972334, -0.0831703 , -0.63825454,  0.91047453,\n",
            "         0.57568354, -1.04026473,  0.43319527,  0.06476996, -0.41156013],\n",
            "       [ 0.10564701,  0.43245171, -0.55581021,  0.42328006, -0.38048018,\n",
            "         0.20105549, -0.28621235,  0.3688368 ,  0.23976044, -0.51289397],\n",
            "       [-0.09873188, -0.4690598 , -0.05471774,  0.61582946, -0.11898552,\n",
            "         1.24371863, -0.04531395,  0.17904273,  0.9324256 ,  0.49391324],\n",
            "       [ 0.02334125,  1.04759736,  0.38789616,  0.02227679, -0.19298763,\n",
            "         0.33676968,  0.18073329, -0.34400035, -0.01712565,  0.28144353],\n",
            "       [-0.74895223, -0.72693405,  0.46692127,  0.16735639,  0.13628379,\n",
            "        -0.00986206,  0.01028739, -0.31631442,  0.05624112, -0.15515304],\n",
            "       [-0.49443998,  1.06465156,  0.09485398,  0.01831188,  0.287053  ,\n",
            "         0.14636891,  0.66234597,  0.31673114, -0.3867663 , -0.25408021],\n",
            "       [-0.08002035, -0.0899866 ,  0.97752647,  0.06248448,  0.37174029,\n",
            "        -0.36968023, -0.09138504,  0.41217173,  0.03083299,  0.08319337],\n",
            "       [-0.13036419,  0.2839416 , -0.05216555, -0.76711559, -0.15645313,\n",
            "        -0.00380441, -0.5323819 , -0.04418541,  0.21402271, -0.23909412],\n",
            "       [ 0.03767747,  0.30105541, -0.30226671, -0.16329863, -0.14749707,\n",
            "        -0.07006931,  0.52880589, -0.47855206, -0.91516845,  0.17323386]]), 'b7': array([[ 0.59367035],\n",
            "       [-0.50276064],\n",
            "       [ 0.63374493],\n",
            "       [-0.92906316],\n",
            "       [ 0.80164805],\n",
            "       [-0.22592828],\n",
            "       [-0.96327067],\n",
            "       [-1.86400449],\n",
            "       [-2.46157542],\n",
            "       [ 0.48392115]]), 'W8': array([[-0.00297781,  0.15715613,  0.22859063,  0.34245053, -0.17049232,\n",
            "        -0.23633259,  0.25224388,  0.25555658,  0.29480749, -0.20703497],\n",
            "       [-0.04874566,  0.20752678, -0.68796764,  0.07921438,  0.31449681,\n",
            "        -0.07654241,  0.17293841,  0.43922023, -0.43146231, -0.73472561],\n",
            "       [ 0.94672543,  0.56916118,  0.25089186, -0.34142583,  0.39646603,\n",
            "         0.42150761,  0.6515358 , -0.55541413, -0.40385646, -0.03464136],\n",
            "       [ 0.14116523,  0.85790236, -0.34659568, -0.17209231,  0.18022228,\n",
            "         0.37435974,  0.16572606, -0.63290119,  1.18054274,  0.06815278],\n",
            "       [ 1.14571087,  0.47531332, -0.30295438,  0.32298544,  0.2011695 ,\n",
            "        -0.60953862, -0.7957807 , -0.26689301,  0.75293388, -0.24071765],\n",
            "       [-0.28649303, -0.25204755,  0.47598579,  1.0207286 ,  0.03307234,\n",
            "        -0.12064393, -0.58517255, -0.37326677, -0.11819636,  0.23495684],\n",
            "       [-0.32669554,  0.37930024,  0.2282234 ,  0.44009324,  0.04166599,\n",
            "         1.30708349,  0.26519803,  0.0239378 , -0.30786785,  0.48366911],\n",
            "       [ 0.1818956 , -0.62915764,  0.56782352, -0.1821905 , -0.73297746,\n",
            "        -0.0174013 , -0.27242534,  0.40175127,  0.09180796, -0.78760941],\n",
            "       [ 0.20251466, -0.50920535, -0.36281671, -0.88380629,  0.73153777,\n",
            "         0.85423324,  0.65213756,  0.34280836, -0.27389432, -0.48823411],\n",
            "       [-0.28023827, -0.03018484, -0.57735294, -0.25799288, -0.49578983,\n",
            "         0.10763864,  0.74419266, -0.65074909,  0.2155094 ,  0.72126496]]), 'b8': array([[-0.01092519],\n",
            "       [-1.27429422],\n",
            "       [ 0.49608741],\n",
            "       [-1.37302525],\n",
            "       [-1.12863534],\n",
            "       [-1.40537765],\n",
            "       [-1.89962711],\n",
            "       [-1.3719949 ],\n",
            "       [ 0.35565139],\n",
            "       [ 0.02725205]]), 'W9': array([[-0.29864767,  0.00814101, -0.14339515,  0.54574214, -0.70890649,\n",
            "        -0.25076352, -0.09440989, -0.21147128,  0.01694153, -0.59899029],\n",
            "       [-0.12033498,  0.20268535,  0.59337121,  0.37942808,  0.66510173,\n",
            "         0.25815903, -0.15261956, -0.08169297, -0.29407096, -0.08505897],\n",
            "       [-0.14198955, -0.21450804, -0.30170538, -0.1634702 ,  0.3446583 ,\n",
            "        -0.47678851,  0.21744957, -0.27598708,  0.39604569, -0.33890839],\n",
            "       [ 0.32870142,  0.16970917,  0.6931999 , -0.2731442 , -0.64894304,\n",
            "        -0.24679367,  0.23180632, -0.22561472,  0.53411993, -0.02223471],\n",
            "       [ 0.49842261,  0.39965076, -0.3608348 , -0.76037498, -0.36846627,\n",
            "        -0.406948  ,  0.50929031, -0.28608612, -0.33283875, -0.35807117],\n",
            "       [ 0.16624662,  0.06413929, -0.82360091, -0.18002068, -1.13901177,\n",
            "         0.76535248,  0.27505474, -0.64783501,  1.00621887, -0.14103445],\n",
            "       [ 0.37357371,  0.03539641, -0.58101083,  0.1165473 , -0.64795121,\n",
            "         0.37241963,  0.18273536, -0.16084473, -0.34225421, -0.75828554],\n",
            "       [-0.20239346, -0.15090728,  0.04694735,  0.42558293,  0.36097889,\n",
            "         0.11227931, -0.18247737, -0.70491073, -0.60177363,  0.28191906],\n",
            "       [-0.0523984 , -0.26399502, -0.11692204,  0.02062388, -0.17956875,\n",
            "         0.76702258,  0.82662767, -0.05290941, -0.65736574, -0.49189389],\n",
            "       [-0.5158365 , -0.23279932,  0.06393604, -0.19836532, -0.03379361,\n",
            "        -0.84744467, -0.35077012,  0.18279465,  0.031615  , -0.0517967 ]]), 'b9': array([[-0.36148523],\n",
            "       [-0.80425125],\n",
            "       [ 0.56907827],\n",
            "       [-1.86263079],\n",
            "       [ 0.10592436],\n",
            "       [ 0.50377611],\n",
            "       [ 0.54404287],\n",
            "       [ 1.04500093],\n",
            "       [-0.10498905],\n",
            "       [ 1.544029  ]]), 'W10': array([[ 0.50357135,  0.18694867,  0.21498876,  0.85396817,  0.22387028,\n",
            "        -0.33256271, -0.22547584, -0.03463237, -0.526123  , -0.45666054]]), 'b10': array([[0.72891913]])}\n"
          ]
        }
      ]
    },
    {
      "cell_type": "code",
      "source": [
        "AL,caches = L_model_forward(X, simple_gd_parameters)\n",
        "cost = calculate_cost(y, AL)\n",
        "print(cost)"
      ],
      "metadata": {
        "colab": {
          "base_uri": "https://localhost:8080/"
        },
        "id": "XQi2MuFEuOfX",
        "outputId": "d39acf0b-8e2d-43d1-8144-01c1719f0bb3"
      },
      "execution_count": null,
      "outputs": [
        {
          "output_type": "stream",
          "name": "stdout",
          "text": [
            "0.43227618678778806\n"
          ]
        }
      ]
    },
    {
      "cell_type": "code",
      "source": [
        "X_test , y_test = make_moons(n_samples = 3000, noise = 0.2, random_state = 42)\n",
        "X_test = X_test.T\n",
        "y_test = y_test.reshape(y_test.shape[0],1)\n",
        "parameters = simple_gd_parameters\n",
        "\n",
        "AL , cache = L_model_forward(X_test, parameters)\n",
        "cost = calculate_cost(y_test, AL)\n",
        "print(cost)"
      ],
      "metadata": {
        "colab": {
          "base_uri": "https://localhost:8080/"
        },
        "id": "2VpIkwdXvSx6",
        "outputId": "97bfc487-1fbe-4a35-8549-f71db54b2ec5"
      },
      "execution_count": null,
      "outputs": [
        {
          "output_type": "stream",
          "name": "stdout",
          "text": [
            "0.43887453181058694\n"
          ]
        }
      ]
    },
    {
      "cell_type": "code",
      "source": [
        "def predict(X, parameters):\n",
        "    \"\"\"\n",
        "    Predict class labels for input X using the trained parameters.\n",
        "\n",
        "    Parameters:\n",
        "    X -- input data (n_x, m)\n",
        "    parameters -- dict of trained weights and biases\n",
        "\n",
        "    Returns:\n",
        "    predictions -- array of 0/1 predictions (1, m)\n",
        "    \"\"\"\n",
        "    AL, _ = L_model_forward(X, parameters)\n",
        "    predictions = (AL > 0.5).astype(int)\n",
        "    return predictions\n",
        "\n",
        "def get_accuracy(X, y, parameters):\n",
        "    \"\"\"\n",
        "    Compute accuracy percentage on the given data.\n",
        "\n",
        "    Parameters:\n",
        "    X -- input data (n_x, m)\n",
        "    y -- true labels (m, 1)\n",
        "    parameters -- dict of trained weights and biases\n",
        "\n",
        "    Returns:\n",
        "    accuracy -- float, accuracy percentage\n",
        "    \"\"\"\n",
        "    predictions = predict(X, parameters)\n",
        "    # Transpose y to match predictions shape (1, m)\n",
        "    accuracy = np.mean(predictions == y.T) * 100\n",
        "    return accuracy"
      ],
      "metadata": {
        "id": "aNeSGKJm1ovN"
      },
      "execution_count": null,
      "outputs": []
    },
    {
      "cell_type": "code",
      "source": [
        "accuracy = get_accuracy(X, y, simple_gd_parameters)\n",
        "print(f\"Training Accuracy: {accuracy:.2f}%\")"
      ],
      "metadata": {
        "colab": {
          "base_uri": "https://localhost:8080/"
        },
        "id": "k0QKezMr3rs4",
        "outputId": "4709c7d3-56a8-4d92-c520-9ee7f8418670"
      },
      "execution_count": null,
      "outputs": [
        {
          "output_type": "stream",
          "name": "stdout",
          "text": [
            "Training Accuracy: 71.03%\n"
          ]
        }
      ]
    },
    {
      "cell_type": "code",
      "source": [
        "accuracy_test = get_accuracy(X_test, y_test, simple_gd_parameters)\n",
        "print(f\"Test Accuracy: {accuracy_test:.2f}%\")"
      ],
      "metadata": {
        "colab": {
          "base_uri": "https://localhost:8080/"
        },
        "id": "NfD8Kp863txd",
        "outputId": "a7027592-a759-450e-89b1-98312a859be2"
      },
      "execution_count": null,
      "outputs": [
        {
          "output_type": "stream",
          "name": "stdout",
          "text": [
            "Test Accuracy: 71.10%\n"
          ]
        }
      ]
    },
    {
      "cell_type": "code",
      "source": [],
      "metadata": {
        "id": "K6SCe2wQxRpH"
      },
      "execution_count": null,
      "outputs": []
    }
  ]
}