{
  "nbformat": 4,
  "nbformat_minor": 0,
  "metadata": {
    "colab": {
      "provenance": [],
      "authorship_tag": "ABX9TyMIrfCKjSvUJEocoHonp3Mh",
      "include_colab_link": true
    },
    "kernelspec": {
      "name": "python3",
      "display_name": "Python 3"
    },
    "language_info": {
      "name": "python"
    }
  },
  "cells": [
    {
      "cell_type": "markdown",
      "metadata": {
        "id": "view-in-github",
        "colab_type": "text"
      },
      "source": [
        "<a href=\"https://colab.research.google.com/github/Daddy-senpaii/MLP-from-scratch/blob/main/Moon_Project_Tensorflow.ipynb\" target=\"_parent\"><img src=\"https://colab.research.google.com/assets/colab-badge.svg\" alt=\"Open In Colab\"/></a>"
      ]
    },
    {
      "cell_type": "code",
      "execution_count": 1,
      "metadata": {
        "colab": {
          "base_uri": "https://localhost:8080/"
        },
        "id": "jzX4nScvDBoZ",
        "outputId": "354849a6-b4bf-4ae6-8b6d-10fffb0cada0"
      },
      "outputs": [
        {
          "output_type": "stream",
          "name": "stdout",
          "text": [
            "Requirement already satisfied: tensorflow in /usr/local/lib/python3.12/dist-packages (2.19.0)\n",
            "Requirement already satisfied: absl-py>=1.0.0 in /usr/local/lib/python3.12/dist-packages (from tensorflow) (1.4.0)\n",
            "Requirement already satisfied: astunparse>=1.6.0 in /usr/local/lib/python3.12/dist-packages (from tensorflow) (1.6.3)\n",
            "Requirement already satisfied: flatbuffers>=24.3.25 in /usr/local/lib/python3.12/dist-packages (from tensorflow) (25.2.10)\n",
            "Requirement already satisfied: gast!=0.5.0,!=0.5.1,!=0.5.2,>=0.2.1 in /usr/local/lib/python3.12/dist-packages (from tensorflow) (0.6.0)\n",
            "Requirement already satisfied: google-pasta>=0.1.1 in /usr/local/lib/python3.12/dist-packages (from tensorflow) (0.2.0)\n",
            "Requirement already satisfied: libclang>=13.0.0 in /usr/local/lib/python3.12/dist-packages (from tensorflow) (18.1.1)\n",
            "Requirement already satisfied: opt-einsum>=2.3.2 in /usr/local/lib/python3.12/dist-packages (from tensorflow) (3.4.0)\n",
            "Requirement already satisfied: packaging in /usr/local/lib/python3.12/dist-packages (from tensorflow) (25.0)\n",
            "Requirement already satisfied: protobuf!=4.21.0,!=4.21.1,!=4.21.2,!=4.21.3,!=4.21.4,!=4.21.5,<6.0.0dev,>=3.20.3 in /usr/local/lib/python3.12/dist-packages (from tensorflow) (5.29.5)\n",
            "Requirement already satisfied: requests<3,>=2.21.0 in /usr/local/lib/python3.12/dist-packages (from tensorflow) (2.32.4)\n",
            "Requirement already satisfied: setuptools in /usr/local/lib/python3.12/dist-packages (from tensorflow) (75.2.0)\n",
            "Requirement already satisfied: six>=1.12.0 in /usr/local/lib/python3.12/dist-packages (from tensorflow) (1.17.0)\n",
            "Requirement already satisfied: termcolor>=1.1.0 in /usr/local/lib/python3.12/dist-packages (from tensorflow) (3.1.0)\n",
            "Requirement already satisfied: typing-extensions>=3.6.6 in /usr/local/lib/python3.12/dist-packages (from tensorflow) (4.15.0)\n",
            "Requirement already satisfied: wrapt>=1.11.0 in /usr/local/lib/python3.12/dist-packages (from tensorflow) (1.17.3)\n",
            "Requirement already satisfied: grpcio<2.0,>=1.24.3 in /usr/local/lib/python3.12/dist-packages (from tensorflow) (1.75.0)\n",
            "Requirement already satisfied: tensorboard~=2.19.0 in /usr/local/lib/python3.12/dist-packages (from tensorflow) (2.19.0)\n",
            "Requirement already satisfied: keras>=3.5.0 in /usr/local/lib/python3.12/dist-packages (from tensorflow) (3.10.0)\n",
            "Requirement already satisfied: numpy<2.2.0,>=1.26.0 in /usr/local/lib/python3.12/dist-packages (from tensorflow) (2.0.2)\n",
            "Requirement already satisfied: h5py>=3.11.0 in /usr/local/lib/python3.12/dist-packages (from tensorflow) (3.14.0)\n",
            "Requirement already satisfied: ml-dtypes<1.0.0,>=0.5.1 in /usr/local/lib/python3.12/dist-packages (from tensorflow) (0.5.3)\n",
            "Requirement already satisfied: wheel<1.0,>=0.23.0 in /usr/local/lib/python3.12/dist-packages (from astunparse>=1.6.0->tensorflow) (0.45.1)\n",
            "Requirement already satisfied: rich in /usr/local/lib/python3.12/dist-packages (from keras>=3.5.0->tensorflow) (13.9.4)\n",
            "Requirement already satisfied: namex in /usr/local/lib/python3.12/dist-packages (from keras>=3.5.0->tensorflow) (0.1.0)\n",
            "Requirement already satisfied: optree in /usr/local/lib/python3.12/dist-packages (from keras>=3.5.0->tensorflow) (0.17.0)\n",
            "Requirement already satisfied: charset_normalizer<4,>=2 in /usr/local/lib/python3.12/dist-packages (from requests<3,>=2.21.0->tensorflow) (3.4.3)\n",
            "Requirement already satisfied: idna<4,>=2.5 in /usr/local/lib/python3.12/dist-packages (from requests<3,>=2.21.0->tensorflow) (3.10)\n",
            "Requirement already satisfied: urllib3<3,>=1.21.1 in /usr/local/lib/python3.12/dist-packages (from requests<3,>=2.21.0->tensorflow) (2.5.0)\n",
            "Requirement already satisfied: certifi>=2017.4.17 in /usr/local/lib/python3.12/dist-packages (from requests<3,>=2.21.0->tensorflow) (2025.8.3)\n",
            "Requirement already satisfied: markdown>=2.6.8 in /usr/local/lib/python3.12/dist-packages (from tensorboard~=2.19.0->tensorflow) (3.9)\n",
            "Requirement already satisfied: tensorboard-data-server<0.8.0,>=0.7.0 in /usr/local/lib/python3.12/dist-packages (from tensorboard~=2.19.0->tensorflow) (0.7.2)\n",
            "Requirement already satisfied: werkzeug>=1.0.1 in /usr/local/lib/python3.12/dist-packages (from tensorboard~=2.19.0->tensorflow) (3.1.3)\n",
            "Requirement already satisfied: MarkupSafe>=2.1.1 in /usr/local/lib/python3.12/dist-packages (from werkzeug>=1.0.1->tensorboard~=2.19.0->tensorflow) (3.0.2)\n",
            "Requirement already satisfied: markdown-it-py>=2.2.0 in /usr/local/lib/python3.12/dist-packages (from rich->keras>=3.5.0->tensorflow) (4.0.0)\n",
            "Requirement already satisfied: pygments<3.0.0,>=2.13.0 in /usr/local/lib/python3.12/dist-packages (from rich->keras>=3.5.0->tensorflow) (2.19.2)\n",
            "Requirement already satisfied: mdurl~=0.1 in /usr/local/lib/python3.12/dist-packages (from markdown-it-py>=2.2.0->rich->keras>=3.5.0->tensorflow) (0.1.2)\n"
          ]
        }
      ],
      "source": [
        "pip install tensorflow"
      ]
    },
    {
      "cell_type": "code",
      "source": [
        "from sklearn.datasets import make_moons\n",
        "\n",
        "X, y = make_moons(n_samples = 60000, noise = 0.2, random_state = 42)"
      ],
      "metadata": {
        "id": "zqQ6mp_9GGxA"
      },
      "execution_count": 3,
      "outputs": []
    },
    {
      "cell_type": "code",
      "source": [
        "print(\"X shape is: \",X.shape)\n",
        "y = y.reshape(1, y.shape[0])\n",
        "print(\"Y shape is: \", y.shape)"
      ],
      "metadata": {
        "colab": {
          "base_uri": "https://localhost:8080/"
        },
        "id": "XtVIDkzgGrFS",
        "outputId": "1ef7ea24-57ff-45ec-ae36-33b3ca933c32"
      },
      "execution_count": 7,
      "outputs": [
        {
          "output_type": "stream",
          "name": "stdout",
          "text": [
            "X shape is:  (60000, 2)\n",
            "Y shape is:  (1, 60000)\n"
          ]
        }
      ]
    },
    {
      "cell_type": "code",
      "source": [
        "import tensorflow as tf\n",
        "from tensorflow import keras\n",
        "from tensorflow.keras import layers"
      ],
      "metadata": {
        "id": "WQ7y5WsRG9T3"
      },
      "execution_count": 9,
      "outputs": []
    },
    {
      "cell_type": "code",
      "source": [
        "physical_devices = tf.config.list_logical_devices(\"GPU\")\n",
        "if physical_devices:\n",
        "  tf.config.experimental.set_memory_growth(physical_devices[0], True)\n",
        "else:\n",
        "  print(\"No GPU devices found\")"
      ],
      "metadata": {
        "colab": {
          "base_uri": "https://localhost:8080/"
        },
        "id": "m2nDsMcMHlYb",
        "outputId": "02bf304f-c5e8-450c-f066-d24ec2302229"
      },
      "execution_count": 11,
      "outputs": [
        {
          "output_type": "stream",
          "name": "stdout",
          "text": [
            "No GPU devices found\n"
          ]
        }
      ]
    },
    {
      "cell_type": "code",
      "source": [
        "model = keras.Sequential(\n",
        "    [\n",
        "        layers.Dense(10, activation = \"relu\" , input_shape = (2,)),\n",
        "        layers.Dense(10, activation = \"relu\"),\n",
        "        layers.Dense(10, activation = \"relu\"),\n",
        "        layers.Dense(10, activation = \"relu\"),\n",
        "        layers.Dense(10, activation = \"relu\"),\n",
        "        layers.Dense(1, activation = \"sigmoid\"),\n",
        "    ]\n",
        ")\n",
        "\n",
        "# Explicitly build the model\n",
        "model.build(input_shape=(None, 2))"
      ],
      "metadata": {
        "colab": {
          "base_uri": "https://localhost:8080/"
        },
        "id": "okqSFIRAIDKn",
        "outputId": "627fc69f-603e-426c-89dd-7e233679d94b"
      },
      "execution_count": 20,
      "outputs": [
        {
          "output_type": "stream",
          "name": "stderr",
          "text": [
            "/usr/local/lib/python3.12/dist-packages/keras/src/layers/core/dense.py:93: UserWarning: Do not pass an `input_shape`/`input_dim` argument to a layer. When using Sequential models, prefer using an `Input(shape)` object as the first layer in the model instead.\n",
            "  super().__init__(activity_regularizer=activity_regularizer, **kwargs)\n"
          ]
        }
      ]
    },
    {
      "cell_type": "code",
      "source": [
        "model.compile(\n",
        "    loss = keras.losses.BinaryCrossentropy(),\n",
        "    optimizer = keras.optimizers.Adam(learning_rate = 0.001),\n",
        "    metrics = [\"accuracy\"]\n",
        ")"
      ],
      "metadata": {
        "id": "gR7HMailIxEz"
      },
      "execution_count": 21,
      "outputs": []
    },
    {
      "cell_type": "code",
      "source": [
        "model.fit(X, y.T, batch_size=30, epochs = 100, verbose = 2)"
      ],
      "metadata": {
        "colab": {
          "base_uri": "https://localhost:8080/"
        },
        "id": "9ov9jmEBKq93",
        "outputId": "fd72bab1-6675-4d16-9b19-60ffcf0009e9"
      },
      "execution_count": 22,
      "outputs": [
        {
          "output_type": "stream",
          "name": "stdout",
          "text": [
            "Epoch 1/100\n",
            "2000/2000 - 6s - 3ms/step - accuracy: 0.9438 - loss: 0.1488\n",
            "Epoch 2/100\n",
            "2000/2000 - 5s - 2ms/step - accuracy: 0.9696 - loss: 0.0817\n",
            "Epoch 3/100\n",
            "2000/2000 - 4s - 2ms/step - accuracy: 0.9700 - loss: 0.0800\n",
            "Epoch 4/100\n",
            "2000/2000 - 4s - 2ms/step - accuracy: 0.9701 - loss: 0.0797\n",
            "Epoch 5/100\n",
            "2000/2000 - 5s - 2ms/step - accuracy: 0.9700 - loss: 0.0796\n",
            "Epoch 6/100\n",
            "2000/2000 - 4s - 2ms/step - accuracy: 0.9701 - loss: 0.0796\n",
            "Epoch 7/100\n",
            "2000/2000 - 5s - 2ms/step - accuracy: 0.9699 - loss: 0.0791\n",
            "Epoch 8/100\n",
            "2000/2000 - 4s - 2ms/step - accuracy: 0.9698 - loss: 0.0796\n",
            "Epoch 9/100\n",
            "2000/2000 - 4s - 2ms/step - accuracy: 0.9701 - loss: 0.0789\n",
            "Epoch 10/100\n",
            "2000/2000 - 4s - 2ms/step - accuracy: 0.9703 - loss: 0.0787\n",
            "Epoch 11/100\n",
            "2000/2000 - 5s - 3ms/step - accuracy: 0.9704 - loss: 0.0789\n",
            "Epoch 12/100\n",
            "2000/2000 - 4s - 2ms/step - accuracy: 0.9700 - loss: 0.0782\n",
            "Epoch 13/100\n",
            "2000/2000 - 4s - 2ms/step - accuracy: 0.9698 - loss: 0.0787\n",
            "Epoch 14/100\n",
            "2000/2000 - 4s - 2ms/step - accuracy: 0.9700 - loss: 0.0784\n",
            "Epoch 15/100\n",
            "2000/2000 - 4s - 2ms/step - accuracy: 0.9700 - loss: 0.0785\n",
            "Epoch 16/100\n",
            "2000/2000 - 4s - 2ms/step - accuracy: 0.9704 - loss: 0.0779\n",
            "Epoch 17/100\n",
            "2000/2000 - 4s - 2ms/step - accuracy: 0.9707 - loss: 0.0783\n",
            "Epoch 18/100\n",
            "2000/2000 - 4s - 2ms/step - accuracy: 0.9700 - loss: 0.0778\n",
            "Epoch 19/100\n",
            "2000/2000 - 4s - 2ms/step - accuracy: 0.9706 - loss: 0.0777\n",
            "Epoch 20/100\n",
            "2000/2000 - 5s - 2ms/step - accuracy: 0.9706 - loss: 0.0773\n",
            "Epoch 21/100\n",
            "2000/2000 - 4s - 2ms/step - accuracy: 0.9707 - loss: 0.0778\n",
            "Epoch 22/100\n",
            "2000/2000 - 4s - 2ms/step - accuracy: 0.9706 - loss: 0.0777\n",
            "Epoch 23/100\n",
            "2000/2000 - 5s - 2ms/step - accuracy: 0.9702 - loss: 0.0776\n",
            "Epoch 24/100\n",
            "2000/2000 - 4s - 2ms/step - accuracy: 0.9708 - loss: 0.0775\n",
            "Epoch 25/100\n",
            "2000/2000 - 6s - 3ms/step - accuracy: 0.9706 - loss: 0.0773\n",
            "Epoch 26/100\n",
            "2000/2000 - 4s - 2ms/step - accuracy: 0.9703 - loss: 0.0775\n",
            "Epoch 27/100\n",
            "2000/2000 - 4s - 2ms/step - accuracy: 0.9707 - loss: 0.0776\n",
            "Epoch 28/100\n",
            "2000/2000 - 4s - 2ms/step - accuracy: 0.9704 - loss: 0.0771\n",
            "Epoch 29/100\n",
            "2000/2000 - 5s - 2ms/step - accuracy: 0.9702 - loss: 0.0775\n",
            "Epoch 30/100\n",
            "2000/2000 - 4s - 2ms/step - accuracy: 0.9705 - loss: 0.0774\n",
            "Epoch 31/100\n",
            "2000/2000 - 4s - 2ms/step - accuracy: 0.9704 - loss: 0.0775\n",
            "Epoch 32/100\n",
            "2000/2000 - 5s - 2ms/step - accuracy: 0.9705 - loss: 0.0772\n",
            "Epoch 33/100\n",
            "2000/2000 - 4s - 2ms/step - accuracy: 0.9704 - loss: 0.0774\n",
            "Epoch 34/100\n",
            "2000/2000 - 4s - 2ms/step - accuracy: 0.9710 - loss: 0.0773\n",
            "Epoch 35/100\n",
            "2000/2000 - 5s - 2ms/step - accuracy: 0.9701 - loss: 0.0772\n",
            "Epoch 36/100\n",
            "2000/2000 - 4s - 2ms/step - accuracy: 0.9705 - loss: 0.0772\n",
            "Epoch 37/100\n",
            "2000/2000 - 4s - 2ms/step - accuracy: 0.9705 - loss: 0.0772\n",
            "Epoch 38/100\n",
            "2000/2000 - 5s - 2ms/step - accuracy: 0.9707 - loss: 0.0769\n",
            "Epoch 39/100\n",
            "2000/2000 - 4s - 2ms/step - accuracy: 0.9704 - loss: 0.0768\n",
            "Epoch 40/100\n",
            "2000/2000 - 4s - 2ms/step - accuracy: 0.9707 - loss: 0.0773\n",
            "Epoch 41/100\n",
            "2000/2000 - 5s - 2ms/step - accuracy: 0.9706 - loss: 0.0770\n",
            "Epoch 42/100\n",
            "2000/2000 - 4s - 2ms/step - accuracy: 0.9701 - loss: 0.0772\n",
            "Epoch 43/100\n",
            "2000/2000 - 4s - 2ms/step - accuracy: 0.9703 - loss: 0.0768\n",
            "Epoch 44/100\n",
            "2000/2000 - 5s - 2ms/step - accuracy: 0.9706 - loss: 0.0770\n",
            "Epoch 45/100\n",
            "2000/2000 - 4s - 2ms/step - accuracy: 0.9708 - loss: 0.0766\n",
            "Epoch 46/100\n",
            "2000/2000 - 4s - 2ms/step - accuracy: 0.9704 - loss: 0.0767\n",
            "Epoch 47/100\n",
            "2000/2000 - 5s - 2ms/step - accuracy: 0.9705 - loss: 0.0771\n",
            "Epoch 48/100\n",
            "2000/2000 - 4s - 2ms/step - accuracy: 0.9700 - loss: 0.0769\n",
            "Epoch 49/100\n",
            "2000/2000 - 4s - 2ms/step - accuracy: 0.9704 - loss: 0.0770\n",
            "Epoch 50/100\n",
            "2000/2000 - 5s - 2ms/step - accuracy: 0.9708 - loss: 0.0767\n",
            "Epoch 51/100\n",
            "2000/2000 - 4s - 2ms/step - accuracy: 0.9706 - loss: 0.0767\n",
            "Epoch 52/100\n",
            "2000/2000 - 4s - 2ms/step - accuracy: 0.9709 - loss: 0.0769\n",
            "Epoch 53/100\n",
            "2000/2000 - 5s - 2ms/step - accuracy: 0.9710 - loss: 0.0766\n",
            "Epoch 54/100\n",
            "2000/2000 - 4s - 2ms/step - accuracy: 0.9712 - loss: 0.0768\n",
            "Epoch 55/100\n",
            "2000/2000 - 4s - 2ms/step - accuracy: 0.9709 - loss: 0.0766\n",
            "Epoch 56/100\n",
            "2000/2000 - 5s - 2ms/step - accuracy: 0.9707 - loss: 0.0766\n",
            "Epoch 57/100\n",
            "2000/2000 - 4s - 2ms/step - accuracy: 0.9707 - loss: 0.0768\n",
            "Epoch 58/100\n",
            "2000/2000 - 4s - 2ms/step - accuracy: 0.9708 - loss: 0.0767\n",
            "Epoch 59/100\n",
            "2000/2000 - 5s - 2ms/step - accuracy: 0.9706 - loss: 0.0768\n",
            "Epoch 60/100\n",
            "2000/2000 - 4s - 2ms/step - accuracy: 0.9710 - loss: 0.0768\n",
            "Epoch 61/100\n",
            "2000/2000 - 4s - 2ms/step - accuracy: 0.9702 - loss: 0.0768\n",
            "Epoch 62/100\n",
            "2000/2000 - 5s - 2ms/step - accuracy: 0.9708 - loss: 0.0765\n",
            "Epoch 63/100\n",
            "2000/2000 - 4s - 2ms/step - accuracy: 0.9708 - loss: 0.0766\n",
            "Epoch 64/100\n",
            "2000/2000 - 4s - 2ms/step - accuracy: 0.9708 - loss: 0.0768\n",
            "Epoch 65/100\n",
            "2000/2000 - 5s - 2ms/step - accuracy: 0.9710 - loss: 0.0767\n",
            "Epoch 66/100\n",
            "2000/2000 - 4s - 2ms/step - accuracy: 0.9711 - loss: 0.0766\n",
            "Epoch 67/100\n",
            "2000/2000 - 4s - 2ms/step - accuracy: 0.9706 - loss: 0.0769\n",
            "Epoch 68/100\n",
            "2000/2000 - 5s - 2ms/step - accuracy: 0.9706 - loss: 0.0766\n",
            "Epoch 69/100\n",
            "2000/2000 - 4s - 2ms/step - accuracy: 0.9703 - loss: 0.0764\n",
            "Epoch 70/100\n",
            "2000/2000 - 4s - 2ms/step - accuracy: 0.9709 - loss: 0.0764\n",
            "Epoch 71/100\n",
            "2000/2000 - 5s - 2ms/step - accuracy: 0.9706 - loss: 0.0766\n",
            "Epoch 72/100\n",
            "2000/2000 - 4s - 2ms/step - accuracy: 0.9707 - loss: 0.0765\n",
            "Epoch 73/100\n",
            "2000/2000 - 4s - 2ms/step - accuracy: 0.9712 - loss: 0.0766\n",
            "Epoch 74/100\n",
            "2000/2000 - 4s - 2ms/step - accuracy: 0.9708 - loss: 0.0765\n",
            "Epoch 75/100\n",
            "2000/2000 - 4s - 2ms/step - accuracy: 0.9709 - loss: 0.0766\n",
            "Epoch 76/100\n",
            "2000/2000 - 4s - 2ms/step - accuracy: 0.9707 - loss: 0.0765\n",
            "Epoch 77/100\n",
            "2000/2000 - 4s - 2ms/step - accuracy: 0.9710 - loss: 0.0763\n",
            "Epoch 78/100\n",
            "2000/2000 - 5s - 2ms/step - accuracy: 0.9708 - loss: 0.0765\n",
            "Epoch 79/100\n",
            "2000/2000 - 4s - 2ms/step - accuracy: 0.9711 - loss: 0.0763\n",
            "Epoch 80/100\n",
            "2000/2000 - 4s - 2ms/step - accuracy: 0.9704 - loss: 0.0764\n",
            "Epoch 81/100\n",
            "2000/2000 - 4s - 2ms/step - accuracy: 0.9710 - loss: 0.0764\n",
            "Epoch 82/100\n",
            "2000/2000 - 4s - 2ms/step - accuracy: 0.9710 - loss: 0.0766\n",
            "Epoch 83/100\n",
            "2000/2000 - 6s - 3ms/step - accuracy: 0.9705 - loss: 0.0766\n",
            "Epoch 84/100\n",
            "2000/2000 - 4s - 2ms/step - accuracy: 0.9705 - loss: 0.0765\n",
            "Epoch 85/100\n",
            "2000/2000 - 4s - 2ms/step - accuracy: 0.9710 - loss: 0.0764\n",
            "Epoch 86/100\n",
            "2000/2000 - 5s - 2ms/step - accuracy: 0.9706 - loss: 0.0763\n",
            "Epoch 87/100\n",
            "2000/2000 - 4s - 2ms/step - accuracy: 0.9710 - loss: 0.0764\n",
            "Epoch 88/100\n",
            "2000/2000 - 4s - 2ms/step - accuracy: 0.9709 - loss: 0.0763\n",
            "Epoch 89/100\n",
            "2000/2000 - 5s - 2ms/step - accuracy: 0.9707 - loss: 0.0762\n",
            "Epoch 90/100\n",
            "2000/2000 - 4s - 2ms/step - accuracy: 0.9708 - loss: 0.0763\n",
            "Epoch 91/100\n",
            "2000/2000 - 4s - 2ms/step - accuracy: 0.9709 - loss: 0.0763\n",
            "Epoch 92/100\n",
            "2000/2000 - 4s - 2ms/step - accuracy: 0.9711 - loss: 0.0762\n",
            "Epoch 93/100\n",
            "2000/2000 - 5s - 2ms/step - accuracy: 0.9708 - loss: 0.0765\n",
            "Epoch 94/100\n",
            "2000/2000 - 4s - 2ms/step - accuracy: 0.9704 - loss: 0.0763\n",
            "Epoch 95/100\n",
            "2000/2000 - 5s - 2ms/step - accuracy: 0.9706 - loss: 0.0762\n",
            "Epoch 96/100\n",
            "2000/2000 - 4s - 2ms/step - accuracy: 0.9706 - loss: 0.0761\n",
            "Epoch 97/100\n",
            "2000/2000 - 4s - 2ms/step - accuracy: 0.9704 - loss: 0.0764\n",
            "Epoch 98/100\n",
            "2000/2000 - 5s - 2ms/step - accuracy: 0.9710 - loss: 0.0764\n",
            "Epoch 99/100\n",
            "2000/2000 - 4s - 2ms/step - accuracy: 0.9711 - loss: 0.0763\n",
            "Epoch 100/100\n",
            "2000/2000 - 4s - 2ms/step - accuracy: 0.9711 - loss: 0.0762\n"
          ]
        },
        {
          "output_type": "execute_result",
          "data": {
            "text/plain": [
              "<keras.src.callbacks.history.History at 0x7beaa42f3110>"
            ]
          },
          "metadata": {},
          "execution_count": 22
        }
      ]
    },
    {
      "cell_type": "code",
      "source": [
        "X_test , y_test = make_moons(n_samples = 10000, noise = 0.2, random_state = 42)\n"
      ],
      "metadata": {
        "id": "Ixge3ezCK9Ox"
      },
      "execution_count": 23,
      "outputs": []
    },
    {
      "cell_type": "code",
      "source": [
        "model.evaluate(X_test, y_test, verbose=2)"
      ],
      "metadata": {
        "colab": {
          "base_uri": "https://localhost:8080/"
        },
        "id": "1gN4fSULNprV",
        "outputId": "07119f7e-509e-438e-be65-097f83e9d341"
      },
      "execution_count": 25,
      "outputs": [
        {
          "output_type": "stream",
          "name": "stdout",
          "text": [
            "313/313 - 1s - 3ms/step - accuracy: 0.9736 - loss: 0.0723\n"
          ]
        },
        {
          "output_type": "execute_result",
          "data": {
            "text/plain": [
              "[0.0723082423210144, 0.9735999703407288]"
            ]
          },
          "metadata": {},
          "execution_count": 25
        }
      ]
    },
    {
      "cell_type": "code",
      "source": [
        "X_data, y_data = make_moons(n_samples = 10, noise = 0.2, random_state = 42)"
      ],
      "metadata": {
        "id": "lVBaSM0rNzIm"
      },
      "execution_count": 36,
      "outputs": []
    },
    {
      "cell_type": "code",
      "source": [
        "print(X_data)\n",
        "print(y_data)"
      ],
      "metadata": {
        "colab": {
          "base_uri": "https://localhost:8080/"
        },
        "id": "IZyeHCPtPn_l",
        "outputId": "aaf776c2-3453-45a9-a9de-bea347dfea22"
      },
      "execution_count": 37,
      "outputs": [
        {
          "output_type": "stream",
          "name": "stdout",
          "text": [
            "[[ 1.76291504 -0.00500372]\n",
            " [ 0.59093115  0.60207282]\n",
            " [-0.11427603  0.31518343]\n",
            " [ 0.4774902   0.19007394]\n",
            " [ 1.16328902 -0.8047752 ]\n",
            " [-0.08560921  0.85151863]\n",
            " [ 1.85933124  0.07207587]\n",
            " [-1.12589499  0.11954409]\n",
            " [-0.19520917  0.78595339]\n",
            " [ 0.31733705 -0.31019391]]\n",
            "[1 0 1 0 1 0 1 0 0 1]\n"
          ]
        }
      ]
    },
    {
      "cell_type": "code",
      "source": [
        "model.evaluate(X_data, y_data, verbose = 2)\n",
        "\n",
        "y_pred_prob = model.predict(X_data)\n",
        "y_pred = (y_pred_prob > 0.5).astype(int)\n",
        "print(y_pred)"
      ],
      "metadata": {
        "colab": {
          "base_uri": "https://localhost:8080/"
        },
        "id": "Ry2HeQAqPvfw",
        "outputId": "357339c2-956f-40e0-9955-13b6591ddc20"
      },
      "execution_count": 38,
      "outputs": [
        {
          "output_type": "stream",
          "name": "stdout",
          "text": [
            "1/1 - 0s - 37ms/step - accuracy: 0.9000 - loss: 0.1713\n",
            "\u001b[1m1/1\u001b[0m \u001b[32m━━━━━━━━━━━━━━━━━━━━\u001b[0m\u001b[37m\u001b[0m \u001b[1m0s\u001b[0m 38ms/step\n",
            "[[1]\n",
            " [0]\n",
            " [1]\n",
            " [1]\n",
            " [1]\n",
            " [0]\n",
            " [1]\n",
            " [0]\n",
            " [0]\n",
            " [1]]\n"
          ]
        }
      ]
    },
    {
      "cell_type": "code",
      "source": [],
      "metadata": {
        "id": "6SU08eCEQCZG"
      },
      "execution_count": null,
      "outputs": []
    }
  ]
}